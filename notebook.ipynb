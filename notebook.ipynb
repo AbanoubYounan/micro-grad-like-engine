{
 "cells": [
  {
   "cell_type": "markdown",
   "id": "10dc6883",
   "metadata": {},
   "source": [
    "# Micro-Grad like Engine"
   ]
  },
  {
   "cell_type": "code",
   "execution_count": 1,
   "id": "32d15298",
   "metadata": {},
   "outputs": [],
   "source": [
    "import matplotlib.pyplot as plt\n",
    "import seaborn as sns"
   ]
  },
  {
   "cell_type": "code",
   "execution_count": 8,
   "id": "e27009df",
   "metadata": {},
   "outputs": [],
   "source": [
    "class Value:\n",
    "    # Gradient\n",
    "    grad = 0.0\n",
    "    # parent of this variable\n",
    "    _prev = None\n",
    "    _label = ''\n",
    "\n",
    "    def __init__(self, data, label = '', _parents = (), _op = ''):\n",
    "        self.data = data\n",
    "        self._label = label\n",
    "        self._prev = set(_parents)\n",
    "        self._op = _op\n",
    "    \n",
    "    def __repr__(self):\n",
    "        if self._label:\n",
    "            return f\"{self._label}: Value(data={self.data})\"\n",
    "        else:\n",
    "            return f\"Value(data={self.data})\"\n",
    "\n",
    "\n",
    "    def set_label(self, label = ''):\n",
    "        self._label = label\n",
    "    \n",
    "    def get_label(self):\n",
    "        return self._label\n",
    "\n",
    "    \n",
    "    # overwrite math operation:\n",
    "    def __add__ (self, other):\n",
    "        return Value(self.data + other.data, _parents= (self, other), _op='+')\n",
    "    \n",
    "    def __mul__ (self, other):\n",
    "        return Value(self.data * other.data, _parents=(self, other), _op='*')\n",
    "\n"
   ]
  },
  {
   "cell_type": "code",
   "execution_count": 9,
   "id": "170942d3",
   "metadata": {},
   "outputs": [],
   "source": [
    "a = Value(5, label='a')\n",
    "b = Value(2, label='b')"
   ]
  },
  {
   "cell_type": "code",
   "execution_count": 10,
   "id": "5c0b2779",
   "metadata": {},
   "outputs": [
    {
     "data": {
      "text/plain": [
       "a: Value(data=5)"
      ]
     },
     "execution_count": 10,
     "metadata": {},
     "output_type": "execute_result"
    }
   ],
   "source": [
    "a"
   ]
  },
  {
   "cell_type": "code",
   "execution_count": 11,
   "id": "c0e55f37",
   "metadata": {},
   "outputs": [],
   "source": [
    "c = a + b\n",
    "c.set_label('c')"
   ]
  },
  {
   "cell_type": "code",
   "execution_count": 12,
   "id": "e9181967",
   "metadata": {},
   "outputs": [
    {
     "data": {
      "text/plain": [
       "c: Value(data=7)"
      ]
     },
     "execution_count": 12,
     "metadata": {},
     "output_type": "execute_result"
    }
   ],
   "source": [
    "c"
   ]
  },
  {
   "cell_type": "code",
   "execution_count": null,
   "id": "0535be16",
   "metadata": {},
   "outputs": [],
   "source": []
  }
 ],
 "metadata": {
  "kernelspec": {
   "display_name": "Python 3",
   "language": "python",
   "name": "python3"
  },
  "language_info": {
   "codemirror_mode": {
    "name": "ipython",
    "version": 3
   },
   "file_extension": ".py",
   "mimetype": "text/x-python",
   "name": "python",
   "nbconvert_exporter": "python",
   "pygments_lexer": "ipython3",
   "version": "3.10.12"
  }
 },
 "nbformat": 4,
 "nbformat_minor": 5
}
